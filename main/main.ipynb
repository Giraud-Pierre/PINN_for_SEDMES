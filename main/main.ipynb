{
  "nbformat": 4,
  "nbformat_minor": 0,
  "metadata": {
    "colab": {
      "provenance": [],
      "authorship_tag": "ABX9TyP0jv5pGSI5gQcESTolXOt+",
      "include_colab_link": true
    },
    "kernelspec": {
      "name": "python3",
      "display_name": "Python 3"
    },
    "language_info": {
      "name": "python"
    }
  },
  "cells": [
    {
      "cell_type": "markdown",
      "metadata": {
        "id": "view-in-github",
        "colab_type": "text"
      },
      "source": [
        "<a href=\"https://colab.research.google.com/github/Giraud-Pierre/PINN_for_SEDMES/blob/adsorption_exercise/main/main.ipynb\" target=\"_parent\"><img src=\"https://colab.research.google.com/assets/colab-badge.svg\" alt=\"Open In Colab\"/></a>"
      ]
    },
    {
      "cell_type": "code",
      "execution_count": null,
      "metadata": {
        "id": "rzQ4cz2kzsfF"
      },
      "outputs": [],
      "source": [
        "import tensorflow as tf\n",
        "import numpy as np\n",
        "import matplotlib.pyplot as plt\n",
        "import time\n",
        "import scipy.io"
      ]
    },
    {
      "cell_type": "code",
      "source": [
        "np.random.seed(0)\n",
        "tf.random.set_seed(1234)"
      ],
      "metadata": {
        "id": "L9EfWsfSDFDX"
      },
      "execution_count": null,
      "outputs": []
    },
    {
      "cell_type": "code",
      "source": [
        "class PhysicsInformedNN:\n",
        "  '''PINN model tailored to answer the adsorption exercise'''\n",
        "  def __init__(self,L,ug,epsb,c0,kg,Ke, layers):\n",
        "    '''object constructor (initialize object at creation). Takes the folowing parameters:\n",
        "    L the length of the bed (m)\n",
        "    ug the linear gas velocity (m/s)\n",
        "    epsb the bed porosity (dimensionless)\n",
        "    c0 the concentration of pollution of the gas (kmol/m3)\n",
        "    kg mass transfer coefficient of the gas to the particles( m/s)\n",
        "    Ke the equilibirum constant (dimentionless)\n",
        "    layers an array containing the number of hidden layers and neurons per layer'''\n",
        "\n",
        "    #initialize constants\n",
        "    self.L = L\n",
        "    self.ug = ug\n",
        "    self.epsb = epsb\n",
        "    self.c0 = c0\n",
        "    self.kg = kg\n",
        "    self. Ke = Ke\n",
        "\n",
        "    #initialize NN\n",
        "    self.weights, self.biases = self.initialize_NN(layers)\n",
        "\n",
        "  def initialize_NN(layers):\n",
        "    '''return initial weights and biases for a feed forward neural network \n",
        "    with a given number of layers and neurons per layer'''\n",
        "    weights = []\n",
        "    biases = []\n",
        "    num_layers = len(layers)\n",
        "    for i in range(num_layers -1):\n",
        "      #create a set of defaults weights and biases between each layer\n",
        "      in_dim = layers[i]\n",
        "      out_dim = layers[i+1]\n",
        "      xavier_stddev = np.sqrt(2/(in_dim + out_dim))\n",
        "            #initialize the weights using Xavier initialization to avoid problems such as vanishing or exploding gradients\n",
        "      W = tf.Variable(tf.truncated_normal([in_dim, out_dim], stddev = xavier_stddev), dtype = tf.float32) \n",
        "            #initialize biases at 0\n",
        "      b = tf.Variable(tf.zeros([1,layers[i+1]], dtype = tf.float32), dtype = tf.float32)\n",
        "      weights.append(W)\n",
        "      biases.append(b)\n",
        "    return weights, biases\n",
        "\n"
      ],
      "metadata": {
        "id": "y_0uYNzRDFZS"
      },
      "execution_count": null,
      "outputs": []
    }
  ]
}