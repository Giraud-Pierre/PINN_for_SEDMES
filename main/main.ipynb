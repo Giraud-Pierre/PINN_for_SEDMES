{
  "nbformat": 4,
  "nbformat_minor": 0,
  "metadata": {
    "colab": {
      "provenance": [],
      "authorship_tag": "ABX9TyOXzNEmaAp7n7a0wGZ3Ds55",
      "include_colab_link": true
    },
    "kernelspec": {
      "name": "python3",
      "display_name": "Python 3"
    },
    "language_info": {
      "name": "python"
    }
  },
  "cells": [
    {
      "cell_type": "markdown",
      "metadata": {
        "id": "view-in-github",
        "colab_type": "text"
      },
      "source": [
        "<a href=\"https://colab.research.google.com/github/Giraud-Pierre/PINN_for_SEDMES/blob/adsorption_exercise/main/main.ipynb\" target=\"_parent\"><img src=\"https://colab.research.google.com/assets/colab-badge.svg\" alt=\"Open In Colab\"/></a>"
      ]
    },
    {
      "cell_type": "code",
      "execution_count": null,
      "metadata": {
        "id": "rzQ4cz2kzsfF"
      },
      "outputs": [],
      "source": [
        "import tensorflow as tf\n",
        "import numpy as np\n",
        "import matplotlib.pyplot as plt\n",
        "import time\n",
        "import scipy.io"
      ]
    },
    {
      "cell_type": "code",
      "source": [
        "np.random.seed(0)\n",
        "tf.random.set_seed(1234)"
      ],
      "metadata": {
        "id": "L9EfWsfSDFDX"
      },
      "execution_count": null,
      "outputs": []
    },
    {
      "cell_type": "code",
      "source": [
        "class AdsorptionPINN:\n",
        "  '''PINN model tailored to answer the adsorption exercise'''\n",
        "  def __init__(x0, Cg0, Cs0, tb, layers, lb, ub):\n",
        "    '''object constructor (initialize object at creation). Takes the folowing parameters:\n",
        "    L the length of the bed (m)\n",
        "    ug the linear gas velocity (m/s)\n",
        "    epsb the bed porosity (dimensionless)\n",
        "    c0 the concentration of pollution of the gas (kmol/m3)\n",
        "    kg mass transfer coefficient of the gas to the particles( m/s)\n",
        "    Ke the equilibirum constant (dimentionless)\n",
        "    layers an array containing the number of hidden layers and neurons per layer'''\n",
        "\n",
        "    #initializing input data\n",
        "        #initial conditions\n",
        "    self.x0 = x0\n",
        "    self.t0 = 0*x0 #at t=0\n",
        "    self.Cg0 = Cg0\n",
        "    self.Cs0 = Cs0\n",
        "        #boundaries\n",
        "    self.ub = ub\n",
        "    self.lb = lb\n",
        "        #lower boundary condition\n",
        "    self.x_lb = 0*tb + lb[0]\n",
        "    self.t_lb = tb\n",
        "        #upper boundary condition\n",
        "    self.x_ub = 0*tb + ub[0]\n",
        "    self.t_ub = tb\n",
        "\n",
        "    #initializing feedforward NN\n",
        "    self.layers = layers\n",
        "    self.weights, self.biases = self.initialize_NN(layers)\n",
        "\n",
        "    #creating tensorflow placeholder\n",
        "    self.x0_tf = tf.placeholder(tf.float32, shape=[None, self.x0.shape[1]])\n",
        "    self.t0_tf = tf.placeholder(tf.float32, shape=[None, self.t0.shape[1]])\n",
        "\n",
        "    self.x_lb_tf = tf.placeholder(tf.float32, shape=[None, self.x_lb.shape[1]])\n",
        "    self.t_lb_tf = tf.placeholder(tf.float32, shape=[None, self.t_lb.shape[1]])\n",
        "    \n",
        "    self.x_ub_tf = tf.placeholder(tf.float32, shape=[None, self.x_ub.shape[1]])\n",
        "    self.t_ub_tf = tf.placeholder(tf.float32, shape=[None, self.t_ub.shape[1]])\n",
        "\n",
        "\n",
        "\n",
        "  def initialize_NN(layers):\n",
        "    '''return initial weights and biases for a feed forward neural network \n",
        "    with a given number of layers and neurons per layer'''\n",
        "    weights = []\n",
        "    biases = []\n",
        "    num_layers = len(layers)\n",
        "    for i in range(num_layers -1):\n",
        "      #create a set of defaults weights and biases between each layer\n",
        "      in_dim = layers[i]\n",
        "      out_dim = layers[i+1]\n",
        "      xavier_stddev = np.sqrt(2/(in_dim + out_dim))\n",
        "            #initialize the weights using Xavier initialization to avoid problems such as vanishing or exploding gradients\n",
        "      W = tf.Variable(tf.truncated_normal([in_dim, out_dim], stddev = xavier_stddev), dtype = tf.float32) \n",
        "            #initialize biases at 0\n",
        "      b = tf.Variable(tf.zeros([1,layers[i+1]], dtype = tf.float32), dtype = tf.float32)\n",
        "      weights.append(W)\n",
        "      biases.append(b)\n",
        "    return weights, biases"
      ],
      "metadata": {
        "id": "y_0uYNzRDFZS"
      },
      "execution_count": null,
      "outputs": []
    },
    {
      "cell_type": "code",
      "source": [
        "if __name__ == \"__main__\"\n",
        "  noise = 0.0 #eventually, can be used to put noise\n",
        "\n",
        "  # architecture of the feedforward network with 2 inputs being space (x) \n",
        "  # and time and 2 outputs being Cg and Cs\n",
        "  layers = [2, 100, 100, 100, 100, 2] \n",
        "\n",
        "  #get data from matlab workspace\n",
        "  data = scipy.io.loadmat(\"data/MatlabSimulation.mat\") #load the simulation data from matlab\n",
        "\n",
        "  t = data['t'].flatten()[:,None] # time from simulation\n",
        "  x = data['x'].flatten()[:,None] # x from simulation\n",
        "  exact_Cs = data['Cs'] #Cs from simulation, function of x and time\n",
        "  exact_Cg = data['Cg'] #Cg from simulation, function of x and time\n",
        "\n",
        "  #Domain bounds\n",
        "  lb = [0, 0] #lower bondaries [space (m), time (s)]\n",
        "  ub = [1, 1000] #upper boundaries\n",
        "\n",
        "\n",
        "\n",
        "  '''Uses collocation points to enforce initial and boundary conditions (can easily be change to get more points)'''\n",
        "  #number of collocation points per set of collocation points [initial conditions, boundary conditions]\n",
        "  N0, Nb = [50, 50] \n",
        "  ########## Initial conditions: #######################################################################\n",
        "  idx_x0 = np.random.choice(x.shape[0], N0, replace = False)\n",
        "  x0 = x[idx_x0,:] #give a random spatial position where to test these initial conditions\n",
        "  Cg0 = 0*x0 #initial condition for Cg0 at t=0 (here Cg0 = 0)\n",
        "  Cs0 = 0*x0 #initial condition for Cs0 at t=0 (here Cs0 = 0)\n",
        "  ########## Boundary conditions: ###################################################################### \n",
        "  idx_tb = np.random.choice(t.shape[0], N_b, replace=False)\n",
        "  tb = t[idx_tb,:] #give a random set of times where to test those boundary conditions\n",
        "\n",
        "  model = AdsorptionPINN(x0, Cg0, Cs0, tb, layers, lb, ub)\n"
      ],
      "metadata": {
        "id": "SBQIlpYmrcGG"
      },
      "execution_count": null,
      "outputs": []
    },
    {
      "cell_type": "code",
      "source": [],
      "metadata": {
        "id": "6I3NFTTusIx1"
      },
      "execution_count": null,
      "outputs": []
    },
    {
      "cell_type": "code",
      "source": [
        "''' code to get collocation points in the data, might be of use later'''\n",
        "idx_x1 = np.random.choice(x.shape[0], N1, replace = False) #random space index for the collocation points \n",
        "idx_t1 = 3 #time index corresponding to the chosen time\n",
        "x1 = x[idx_x1,:]\n",
        "t1 = t[idx_t1,:]\n",
        "Cs1 = exact_Cs[idx_t1,id_xx]\n",
        "Cg1 = exact_Cg[idx_t1,idx_x1]"
      ],
      "metadata": {
        "id": "dseyB3rEEIZO"
      },
      "execution_count": null,
      "outputs": []
    }
  ]
}